{
 "cells": [
  {
   "cell_type": "code",
   "execution_count": 44,
   "metadata": {},
   "outputs": [],
   "source": [
    "import pandas as pd\n",
    "from pandas import DataFrame\n",
    "from matplotlib import style\n",
    "import csv\n",
    "import Bio\n",
    "from Bio.Seq import Seq\n",
    "from Bio.Alphabet import IUPAC\n"
   ]
  },
  {
   "cell_type": "markdown",
   "metadata": {},
   "source": [
    "#### lets think a little more about how we want to index this if we need to do it differently"
   ]
  },
  {
   "cell_type": "code",
   "execution_count": 17,
   "metadata": {},
   "outputs": [],
   "source": [
    "df = pd.read_csv('try.csv')\n",
    "#print(df.head())"
   ]
  },
  {
   "cell_type": "code",
   "execution_count": 16,
   "metadata": {},
   "outputs": [],
   "source": [
    "df2 = df[['tp','v']]\n",
    "#print(df2.head())"
   ]
  },
  {
   "cell_type": "code",
   "execution_count": 21,
   "metadata": {},
   "outputs": [
    {
     "name": "stdout",
     "output_type": "stream",
     "text": [
      "         tp   v\n",
      "200  time-1  V3\n",
      "201  time-1  V3\n",
      "202  time-1  V3\n",
      "203  time-1  V3\n",
      "204  time-1  V3\n"
     ]
    }
   ],
   "source": [
    "df_t_1 = df2[(df2['tp'] == 'time-1')]\n",
    "df_t_9 = df2[(df2['tp'] == 'time-9')]\n",
    "df_t_18 = df2[(df2['tp'] == 'time-18')]\n",
    "df_t_27 = df2[(df2['tp'] == 'time-27')]\n",
    "print(df_t_1.head())\n",
    "#print(df_t_9.head())\n",
    "#print(df_t_18.head())\n",
    "#print(df_t_27.head())"
   ]
  },
  {
   "cell_type": "code",
   "execution_count": 27,
   "metadata": {},
   "outputs": [],
   "source": [
    "#for i in df_t_1[1:]:\n",
    "    #print(i)"
   ]
  },
  {
   "cell_type": "code",
   "execution_count": null,
   "metadata": {},
   "outputs": [],
   "source": [
    "#print(df_t_1.head())"
   ]
  },
  {
   "cell_type": "code",
   "execution_count": 32,
   "metadata": {},
   "outputs": [],
   "source": [
    "df_t_1.to_csv('tp_1_v.csv')\n",
    "df_t_9.to_csv('tp_9_v.csv')\n",
    "df_t_18.to_csv('tp_18_v.csv')\n",
    "df_t_27.to_csv('tp_27_v.csv')"
   ]
  },
  {
   "cell_type": "code",
   "execution_count": null,
   "metadata": {},
   "outputs": [],
   "source": [
    "with open('tp_1_v.csv','r') as csv_file:\n",
    "    csv_read = csv.reader(csv_file)\n",
    "    #for line in csv_read:\n",
    "     #   print(line)"
   ]
  },
  {
   "cell_type": "code",
   "execution_count": 45,
   "metadata": {},
   "outputs": [],
   "source": [
    "s = Seq('TGTGCGAGAGATCTCCTGGAGCGGCCTTGGTTCGGGGTGGGCTACTGG')\n"
   ]
  },
  {
   "cell_type": "code",
   "execution_count": 46,
   "metadata": {},
   "outputs": [
    {
     "data": {
      "text/plain": [
       "Seq('CARDLLERPWFGVGYW', ExtendedIUPACProtein())"
      ]
     },
     "execution_count": 46,
     "metadata": {},
     "output_type": "execute_result"
    }
   ],
   "source": [
    "s.translate()"
   ]
  },
  {
   "cell_type": "code",
   "execution_count": null,
   "metadata": {},
   "outputs": [],
   "source": []
  }
 ],
 "metadata": {
  "kernelspec": {
   "display_name": "Python 3",
   "language": "python",
   "name": "python3"
  },
  "language_info": {
   "codemirror_mode": {
    "name": "ipython",
    "version": 3
   },
   "file_extension": ".py",
   "mimetype": "text/x-python",
   "name": "python",
   "nbconvert_exporter": "python",
   "pygments_lexer": "ipython3",
   "version": "3.6.5"
  }
 },
 "nbformat": 4,
 "nbformat_minor": 2
}
