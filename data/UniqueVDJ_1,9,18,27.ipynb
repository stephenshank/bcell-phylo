{
 "cells": [
  {
   "cell_type": "markdown",
   "metadata": {},
   "source": [
    "# This is going to take in the fasta file and use the information in the header to write a few different files."
   ]
  },
  {
   "cell_type": "markdown",
   "metadata": {},
   "source": [
    "#### First we have our imports"
   ]
  },
  {
   "cell_type": "code",
   "execution_count": null,
   "metadata": {},
   "outputs": [],
   "source": [
    "from Bio import SeqIO\n",
    "from Bio.Seq import Seq\n",
    "from Bio.Alphabet import IUPAC\n",
    "from collections import Counter\n",
    "import csv"
   ]
  },
  {
   "cell_type": "markdown",
   "metadata": {},
   "source": [
    "#### This is a little file opener and appender, we make a few lists using the headers in the fasta file to append the desired information into each list."
   ]
  },
  {
   "cell_type": "code",
   "execution_count": null,
   "metadata": {},
   "outputs": [],
   "source": [
    "header_time = []\n",
    "header_size = []\n",
    "header_vdj = []\n",
    "header_seq = []\n",
    "for record in SeqIO.parse('full_size-30.fasta', 'fasta'):\n",
    "    #print(record.id)\n",
    "    header_time.append(record.id.split('_')[1])\n",
    "    header_size.append(record.id.split('_')[2])\n",
    "    header_vdj.append(record.id.split('_')[3])\n",
    "    header_seq.append(record.id.split('_')[4])\n",
    "#print(len(header_time))\n",
    "#print(len(header_size))\n",
    "#print(len(header_vdj))\n",
    "#print(header_time)"
   ]
  },
  {
   "cell_type": "markdown",
   "metadata": {},
   "source": [
    "#### The code works by grabbing the correct info and appending it to the desired list, I am not sure if this data is actually the v, d, and j region tho.."
   ]
  },
  {
   "cell_type": "code",
   "execution_count": null,
   "metadata": {},
   "outputs": [],
   "source": [
    "v_region = [] \n",
    "d_region = []\n",
    "j_region = []\n",
    "for i in header_vdj:\n",
    "    v_region.append(i.split(',')[0])\n",
    "    d_region.append(i.split(',')[1])\n",
    "    j_region.append(i.split(',')[2])"
   ]
  },
  {
   "cell_type": "markdown",
   "metadata": {},
   "source": [
    "#### This is a sanity check just to show that everything is accounted for "
   ]
  },
  {
   "cell_type": "code",
   "execution_count": null,
   "metadata": {},
   "outputs": [],
   "source": [
    "print(len(v_region))\n",
    "print(len(d_region))\n",
    "print(len(j_region))"
   ]
  },
  {
   "cell_type": "markdown",
   "metadata": {},
   "source": [
    "#### This is a cool little block that uses the Counter function to see how many unique regions there are"
   ]
  },
  {
   "cell_type": "code",
   "execution_count": null,
   "metadata": {},
   "outputs": [],
   "source": [
    "uni_v = Counter(v_region)\n",
    "uni_d = Counter(d_region)\n",
    "uni_j = Counter(j_region)"
   ]
  },
  {
   "cell_type": "markdown",
   "metadata": {},
   "source": [
    "#### This is really interesting... I need to make sure I understand the data to see if I really have these regions. "
   ]
  },
  {
   "cell_type": "code",
   "execution_count": null,
   "metadata": {},
   "outputs": [],
   "source": [
    "print(len(uni_v))\n",
    "print(len(uni_d))\n",
    "print(len(uni_j))\n",
    "print(len(header_time))"
   ]
  },
  {
   "cell_type": "code",
   "execution_count": null,
   "metadata": {},
   "outputs": [],
   "source": [
    "lines = zip(header_time, v_region)"
   ]
  },
  {
   "cell_type": "markdown",
   "metadata": {},
   "source": [
    "#### We are going to take our lists and write a nice csv file to visualize it. "
   ]
  },
  {
   "cell_type": "code",
   "execution_count": null,
   "metadata": {},
   "outputs": [],
   "source": [
    "with open('try.csv','w') as out:\n",
    "    out.write(\"{},{},{}\\n\".format( str('#'), str('tp'), str('v')))\n",
    "    for i,j in enumerate(lines):\n",
    "        out.write(\"{},{},{}\\n\".format( i, j[0], j[1]))"
   ]
  },
  {
   "cell_type": "markdown",
   "metadata": {},
   "source": [
    "#### ok this works and writes a nice csv. lets munge that data around with pandas to get what we want"
   ]
  },
  {
   "cell_type": "markdown",
   "metadata": {},
   "source": [
    "#### Now we will put the VDJ notation on hold and focus more on the actual sequences\n",
    "This step is taking the sequences in each header and translating it to amino acids."
   ]
  },
  {
   "cell_type": "code",
   "execution_count": null,
   "metadata": {},
   "outputs": [],
   "source": [
    "temp = []\n",
    "for i in header_seq:\n",
    "    temp.append(Seq(i))"
   ]
  },
  {
   "cell_type": "markdown",
   "metadata": {},
   "source": [
    "#### We have to use this logic loop because there are some sequences in the headers that contain characters that throw an error. We take care of those sequences that throw errors, although we dont do anything with it down stream yet."
   ]
  },
  {
   "cell_type": "code",
   "execution_count": null,
   "metadata": {},
   "outputs": [],
   "source": [
    "head_seq_trans = []\n",
    "weird_seq = []\n",
    "for i in temp:\n",
    "    if '-' in i:\n",
    "        head_seq_trans.append('bad char in seq')\n",
    "        weird_seq.append(i)\n",
    "    else:\n",
    "        head_seq_trans.append(i.translate())\n",
    "    "
   ]
  },
  {
   "cell_type": "markdown",
   "metadata": {},
   "source": [
    "#### This is a neat block that will take the v_region and append it to the end of each element in in head_seq_trans. So, now at the end of each translated sequence you will have its corresponding v_region"
   ]
  },
  {
   "cell_type": "code",
   "execution_count": null,
   "metadata": {},
   "outputs": [],
   "source": [
    "seq_v = [head_seq_trans[i] + '_' + v_region[i] for i in range(len(head_seq_trans))]"
   ]
  },
  {
   "cell_type": "code",
   "execution_count": null,
   "metadata": {},
   "outputs": [],
   "source": [
    "for i in seq_v[0:1]:\n",
    "    print(i)"
   ]
  },
  {
   "cell_type": "code",
   "execution_count": null,
   "metadata": {},
   "outputs": [],
   "source": [
    "lines = zip(header_time, seq_v)"
   ]
  },
  {
   "cell_type": "markdown",
   "metadata": {},
   "source": [
    "#### Lastly, we will write our csv file that contains the desired information"
   ]
  },
  {
   "cell_type": "code",
   "execution_count": null,
   "metadata": {},
   "outputs": [],
   "source": [
    "with open('seq.csv','w') as out:\n",
    "    out.write(\"{},{},{}\\n\".format( str('#'), str('tp'), str('seq_v')))\n",
    "    for i,j in enumerate(lines):\n",
    "        out.write(\"{},{},{}\\n\".format( i, j[0], j[1]))"
   ]
  },
  {
   "cell_type": "code",
   "execution_count": null,
   "metadata": {},
   "outputs": [],
   "source": [
    "len(header_seq)"
   ]
  },
  {
   "cell_type": "markdown",
   "metadata": {},
   "source": [
    "#### This little block is another sanity check, however we see that there are 1062 header sequences total and when we translate the sequences, there are 927 unique, translated seqs (might want to do something with these later)."
   ]
  },
  {
   "cell_type": "code",
   "execution_count": null,
   "metadata": {},
   "outputs": [],
   "source": [
    "uni_trans_seq = Counter(head_seq_trans)"
   ]
  },
  {
   "cell_type": "code",
   "execution_count": null,
   "metadata": {},
   "outputs": [],
   "source": [
    "len(uni_trans_seq)"
   ]
  }
 ],
 "metadata": {
  "kernelspec": {
   "display_name": "Python 3",
   "language": "python",
   "name": "python3"
  },
  "language_info": {
   "codemirror_mode": {
    "name": "ipython",
    "version": 3
   },
   "file_extension": ".py",
   "mimetype": "text/x-python",
   "name": "python",
   "nbconvert_exporter": "python",
   "pygments_lexer": "ipython3",
   "version": "3.6.5"
  }
 },
 "nbformat": 4,
 "nbformat_minor": 2
}
